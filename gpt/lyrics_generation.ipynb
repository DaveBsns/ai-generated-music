{
 "cells": [
  {
   "attachments": {},
   "cell_type": "markdown",
   "metadata": {},
   "source": [
    "# Lyrics generation with chatGPT:"
   ]
  },
  {
   "cell_type": "code",
   "execution_count": 1,
   "metadata": {},
   "outputs": [
    {
     "name": "stdout",
     "output_type": "stream",
     "text": [
      "Requirement already satisfied: openai in c:\\users\\dunit\\desktop\\sem\\deeplearning\\ai-generated-music\\.env\\lib\\site-packages (0.27.8)\n",
      "Requirement already satisfied: requests>=2.20 in c:\\users\\dunit\\desktop\\sem\\deeplearning\\ai-generated-music\\.env\\lib\\site-packages (from openai) (2.31.0)\n",
      "Requirement already satisfied: tqdm in c:\\users\\dunit\\desktop\\sem\\deeplearning\\ai-generated-music\\.env\\lib\\site-packages (from openai) (4.65.0)\n",
      "Requirement already satisfied: aiohttp in c:\\users\\dunit\\desktop\\sem\\deeplearning\\ai-generated-music\\.env\\lib\\site-packages (from openai) (3.8.4)\n",
      "Requirement already satisfied: charset-normalizer<4,>=2 in c:\\users\\dunit\\desktop\\sem\\deeplearning\\ai-generated-music\\.env\\lib\\site-packages (from requests>=2.20->openai) (3.1.0)\n",
      "Requirement already satisfied: idna<4,>=2.5 in c:\\users\\dunit\\desktop\\sem\\deeplearning\\ai-generated-music\\.env\\lib\\site-packages (from requests>=2.20->openai) (3.4)\n",
      "Requirement already satisfied: urllib3<3,>=1.21.1 in c:\\users\\dunit\\desktop\\sem\\deeplearning\\ai-generated-music\\.env\\lib\\site-packages (from requests>=2.20->openai) (1.26.16)\n",
      "Requirement already satisfied: certifi>=2017.4.17 in c:\\users\\dunit\\desktop\\sem\\deeplearning\\ai-generated-music\\.env\\lib\\site-packages (from requests>=2.20->openai) (2023.5.7)\n",
      "Requirement already satisfied: attrs>=17.3.0 in c:\\users\\dunit\\desktop\\sem\\deeplearning\\ai-generated-music\\.env\\lib\\site-packages (from aiohttp->openai) (23.1.0)\n",
      "Requirement already satisfied: multidict<7.0,>=4.5 in c:\\users\\dunit\\desktop\\sem\\deeplearning\\ai-generated-music\\.env\\lib\\site-packages (from aiohttp->openai) (6.0.4)\n",
      "Requirement already satisfied: async-timeout<5.0,>=4.0.0a3 in c:\\users\\dunit\\desktop\\sem\\deeplearning\\ai-generated-music\\.env\\lib\\site-packages (from aiohttp->openai) (4.0.2)\n",
      "Requirement already satisfied: yarl<2.0,>=1.0 in c:\\users\\dunit\\desktop\\sem\\deeplearning\\ai-generated-music\\.env\\lib\\site-packages (from aiohttp->openai) (1.9.2)\n",
      "Requirement already satisfied: frozenlist>=1.1.1 in c:\\users\\dunit\\desktop\\sem\\deeplearning\\ai-generated-music\\.env\\lib\\site-packages (from aiohttp->openai) (1.3.3)\n",
      "Requirement already satisfied: aiosignal>=1.1.2 in c:\\users\\dunit\\desktop\\sem\\deeplearning\\ai-generated-music\\.env\\lib\\site-packages (from aiohttp->openai) (1.3.1)\n",
      "Requirement already satisfied: colorama in c:\\users\\dunit\\desktop\\sem\\deeplearning\\ai-generated-music\\.env\\lib\\site-packages (from tqdm->openai) (0.4.6)\n"
     ]
    }
   ],
   "source": [
    "! pip install openai"
   ]
  },
  {
   "cell_type": "code",
   "execution_count": 2,
   "metadata": {},
   "outputs": [],
   "source": [
    "import openai\n",
    "import io"
   ]
  },
  {
   "attachments": {},
   "cell_type": "markdown",
   "metadata": {},
   "source": [
    "Add your OpenAi API key below"
   ]
  },
  {
   "cell_type": "code",
   "execution_count": 8,
   "metadata": {},
   "outputs": [],
   "source": [
    "api_key = \"\""
   ]
  },
  {
   "cell_type": "code",
   "execution_count": 9,
   "metadata": {},
   "outputs": [],
   "source": [
    "openai.api_key = api_key"
   ]
  },
  {
   "cell_type": "code",
   "execution_count": 10,
   "metadata": {},
   "outputs": [],
   "source": [
    "def get_completion(prompt, model=\"gpt-3.5-turbo\"):\n",
    "    messages = [{\"role\": \"user\", \"content\": prompt}]\n",
    "    response = openai.ChatCompletion.create(\n",
    "        model=model,\n",
    "        messages=messages,\n",
    "        temperature=0,\n",
    "    )\n",
    "    return response.choices[0].message[\"content\"]"
   ]
  },
  {
   "cell_type": "code",
   "execution_count": 11,
   "metadata": {},
   "outputs": [],
   "source": [
    "prompt = \"create lyrics for a song that describes how beautiful Heilbronn University is\""
   ]
  },
  {
   "cell_type": "code",
   "execution_count": 12,
   "metadata": {},
   "outputs": [
    {
     "name": "stdout",
     "output_type": "stream",
     "text": [
      "(Verse 1)\n",
      "In the heart of Germany, a place so divine,\n",
      "Where knowledge and beauty effortlessly align,\n",
      "Heilbronn University, a sight to behold,\n",
      "A haven of learning, where dreams unfold.\n",
      "\n",
      "(Chorus)\n",
      "Oh, Heilbronn University, you're a sight to see,\n",
      "With your grand architecture and history,\n",
      "From the moment I stepped foot on your ground,\n",
      "I knew true beauty in every sight and sound.\n",
      "\n",
      "(Verse 2)\n",
      "The campus adorned with blossoms so fair,\n",
      "A symphony of colors, floating in the air,\n",
      "The sun-kissed gardens, a tranquil retreat,\n",
      "Where students find solace, their minds to meet.\n",
      "\n",
      "(Chorus)\n",
      "Oh, Heilbronn University, you're a sight to see,\n",
      "With your grand architecture and history,\n",
      "From the moment I stepped foot on your ground,\n",
      "I knew true beauty in every sight and sound.\n",
      "\n",
      "(Bridge)\n",
      "From lecture halls to libraries, a world of knowledge thrives,\n",
      "Where professors inspire, and curiosity survives,\n",
      "The vibrant student life, a tapestry so bright,\n",
      "Where friendships are woven, like stars in the night.\n",
      "\n",
      "(Verse 3)\n",
      "The Neckar River flows, a gentle embrace,\n",
      "Reflecting the beauty of this remarkable place,\n",
      "The city's charm, a blend of old and new,\n",
      "Heilbronn University, I'm in awe of you.\n",
      "\n",
      "(Chorus)\n",
      "Oh, Heilbronn University, you're a sight to see,\n",
      "With your grand architecture and history,\n",
      "From the moment I stepped foot on your ground,\n",
      "I knew true beauty in every sight and sound.\n",
      "\n",
      "(Outro)\n",
      "Heilbronn University, forever in my heart,\n",
      "A testament to knowledge, a work of art,\n",
      "I'll cherish the memories, the friendships I've made,\n",
      "In this beautiful haven, where dreams never fade.\n"
     ]
    }
   ],
   "source": [
    "response = get_completion(prompt)\n",
    "print(response)"
   ]
  },
  {
   "cell_type": "code",
   "execution_count": 13,
   "metadata": {},
   "outputs": [],
   "source": [
    "def removeCaptions(text):\n",
    "\n",
    "    stopWords = ['Verse', 'Chorus', 'Bridge', 'Outro']\n",
    "    response = \"\"\n",
    "\n",
    "    for line in io.StringIO(text):\n",
    "        if not any(word in line for word in stopWords):\n",
    "            response = response + line\n",
    "\n",
    "    return response\n"
   ]
  },
  {
   "cell_type": "code",
   "execution_count": 14,
   "metadata": {},
   "outputs": [
    {
     "name": "stdout",
     "output_type": "stream",
     "text": [
      "In the heart of Germany, a place so divine,\n",
      "Where knowledge and beauty effortlessly align,\n",
      "Heilbronn University, a sight to behold,\n",
      "A haven of learning, where dreams unfold.\n",
      "\n",
      "Oh, Heilbronn University, you're a sight to see,\n",
      "With your grand architecture and history,\n",
      "From the moment I stepped foot on your ground,\n",
      "I knew true beauty in every sight and sound.\n",
      "\n",
      "The campus adorned with blossoms so fair,\n",
      "A symphony of colors, floating in the air,\n",
      "The sun-kissed gardens, a tranquil retreat,\n",
      "Where students find solace, their minds to meet.\n",
      "\n",
      "Oh, Heilbronn University, you're a sight to see,\n",
      "With your grand architecture and history,\n",
      "From the moment I stepped foot on your ground,\n",
      "I knew true beauty in every sight and sound.\n",
      "\n",
      "From lecture halls to libraries, a world of knowledge thrives,\n",
      "Where professors inspire, and curiosity survives,\n",
      "The vibrant student life, a tapestry so bright,\n",
      "Where friendships are woven, like stars in the night.\n",
      "\n",
      "The Neckar River flows, a gentle embrace,\n",
      "Reflecting the beauty of this remarkable place,\n",
      "The city's charm, a blend of old and new,\n",
      "Heilbronn University, I'm in awe of you.\n",
      "\n",
      "Oh, Heilbronn University, you're a sight to see,\n",
      "With your grand architecture and history,\n",
      "From the moment I stepped foot on your ground,\n",
      "I knew true beauty in every sight and sound.\n",
      "\n",
      "Heilbronn University, forever in my heart,\n",
      "A testament to knowledge, a work of art,\n",
      "I'll cherish the memories, the friendships I've made,\n",
      "In this beautiful haven, where dreams never fade.\n"
     ]
    }
   ],
   "source": [
    "print(removeCaptions(response))"
   ]
  }
 ],
 "metadata": {
  "kernelspec": {
   "display_name": "Python 3",
   "language": "python",
   "name": "python3"
  },
  "language_info": {
   "codemirror_mode": {
    "name": "ipython",
    "version": 3
   },
   "file_extension": ".py",
   "mimetype": "text/x-python",
   "name": "python",
   "nbconvert_exporter": "python",
   "pygments_lexer": "ipython3",
   "version": "3.8.9"
  },
  "orig_nbformat": 4
 },
 "nbformat": 4,
 "nbformat_minor": 2
}
